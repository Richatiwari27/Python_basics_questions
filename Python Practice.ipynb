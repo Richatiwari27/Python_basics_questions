{
 "cells": [
  {
   "cell_type": "markdown",
   "id": "fca47b08",
   "metadata": {},
   "source": [
    "## LIST"
   ]
  },
  {
   "cell_type": "code",
   "execution_count": 1,
   "id": "1f75803d",
   "metadata": {},
   "outputs": [
    {
     "name": "stdout",
     "output_type": "stream",
     "text": [
      "[12, 8, 9, 2, 5]\n",
      "sum of the list 36\n"
     ]
    }
   ],
   "source": [
    "## (1) Write a python program to find the sum of all element in a list \n",
    "list=[12,8,9,2,5]\n",
    "print(list)\n",
    "print(\"sum of the list\",sum (list))"
   ]
  },
  {
   "cell_type": "code",
   "execution_count": 2,
   "id": "a57b936d",
   "metadata": {},
   "outputs": [
    {
     "name": "stdout",
     "output_type": "stream",
     "text": [
      "12\n",
      "2\n"
     ]
    }
   ],
   "source": [
    "## (2) Create a function to find the maximum and minimum values in a list.\n",
    "list=[12,8,9,2,5]\n",
    "print(max(list))\n",
    "print(min(list))"
   ]
  },
  {
   "cell_type": "code",
   "execution_count": 4,
   "id": "5d724453",
   "metadata": {},
   "outputs": [],
   "source": [
    "def get_max(list):\n",
    "    return max(list)"
   ]
  },
  {
   "cell_type": "code",
   "execution_count": 5,
   "id": "177a26b1",
   "metadata": {},
   "outputs": [
    {
     "data": {
      "text/plain": [
       "12"
      ]
     },
     "execution_count": 5,
     "metadata": {},
     "output_type": "execute_result"
    }
   ],
   "source": [
    "get_max(list)"
   ]
  },
  {
   "cell_type": "code",
   "execution_count": 7,
   "id": "c4b9aa1a",
   "metadata": {},
   "outputs": [
    {
     "data": {
      "text/plain": [
       "2"
      ]
     },
     "execution_count": 7,
     "metadata": {},
     "output_type": "execute_result"
    }
   ],
   "source": [
    "def get_min(list):\n",
    "    return min(list)\n",
    "get_min(list)"
   ]
  },
  {
   "cell_type": "code",
   "execution_count": 10,
   "id": "70b58ba0",
   "metadata": {},
   "outputs": [
    {
     "name": "stdout",
     "output_type": "stream",
     "text": [
      "{1, 2, 3, 4}\n"
     ]
    }
   ],
   "source": [
    "## (3) Write a program to remove duplicates from a list.\n",
    "list_1 = [1,2,3,4,2,1]\n",
    "print(set(list_1))\n"
   ]
  },
  {
   "cell_type": "code",
   "execution_count": 12,
   "id": "725d6ef5",
   "metadata": {},
   "outputs": [
    {
     "name": "stdout",
     "output_type": "stream",
     "text": [
      "[15, 14, 13, 12, 11, 10]\n"
     ]
    }
   ],
   "source": [
    "## (4) Implement a function that reverses the elements in a list.\n",
    "def Reverse(lst):\n",
    "    new_lst = lst[::-1]\n",
    "    return new_lst\n",
    "lst = [10,11,12,13,14,15]\n",
    "print(Reverse(lst))"
   ]
  },
  {
   "cell_type": "code",
   "execution_count": 15,
   "id": "da463f90",
   "metadata": {},
   "outputs": [
    {
     "data": {
      "text/plain": [
       "[2, 5, 8, 9, 12]"
      ]
     },
     "execution_count": 15,
     "metadata": {},
     "output_type": "execute_result"
    }
   ],
   "source": [
    "## (5) Create a program to check if a list is sorted in ascending order.\n",
    "list=[12,8,9,2,5]\n",
    "list.sort()\n",
    "list"
   ]
  },
  {
   "cell_type": "code",
   "execution_count": 16,
   "id": "53c5b70d",
   "metadata": {},
   "outputs": [
    {
     "name": "stdout",
     "output_type": "stream",
     "text": [
      "14.0\n"
     ]
    }
   ],
   "source": [
    "## (6) Write a Python function to find the average of all elements in a list.\n",
    "list=[12,13,14,15,16]\n",
    "Average = sum(list)/ len(list)\n",
    "print(Average)"
   ]
  },
  {
   "cell_type": "code",
   "execution_count": 18,
   "id": "53985f44",
   "metadata": {},
   "outputs": [
    {
     "data": {
      "text/plain": [
       "14.0"
      ]
     },
     "execution_count": 18,
     "metadata": {},
     "output_type": "execute_result"
    }
   ],
   "source": [
    "def get_Average(list):\n",
    "    return sum(list)/len(list)\n",
    "get_Average(list)"
   ]
  },
  {
   "cell_type": "code",
   "execution_count": 20,
   "id": "6c174736",
   "metadata": {},
   "outputs": [
    {
     "name": "stdout",
     "output_type": "stream",
     "text": [
      "[5, 7, 7, 9, 9, 11, 12, 12, 14, 15]\n"
     ]
    }
   ],
   "source": [
    "## (7) Implement a program to merge two lists into a single sorted list.\n",
    "list1=[12,9,5,11,7]\n",
    "list2=[9,12,14,7,15]\n",
    "merged_list=list1+list2\n",
    "merged_list.sort()\n",
    "print(merged_list)\n",
    "\n"
   ]
  },
  {
   "cell_type": "code",
   "execution_count": 25,
   "id": "14701a34",
   "metadata": {},
   "outputs": [
    {
     "data": {
      "text/plain": [
       "[4, 7, 7, 9, 12, 13, 41, 56, 87, 90]"
      ]
     },
     "execution_count": 25,
     "metadata": {},
     "output_type": "execute_result"
    }
   ],
   "source": [
    "def get_mergedlist(list1,list2):\n",
    "    merged_list=list1+list2\n",
    "    merged_list.sort()\n",
    "    return merged_list\n",
    "list1 = [13,7,56,87,9]\n",
    "list2 = [12,7,4,90,41]\n",
    "get_mergedlist(list1,list2)"
   ]
  },
  {
   "cell_type": "markdown",
   "id": "498d6664",
   "metadata": {},
   "source": [
    "## TUPLE"
   ]
  },
  {
   "cell_type": "code",
   "execution_count": 1,
   "id": "2d5ccd74",
   "metadata": {},
   "outputs": [
    {
     "name": "stdout",
     "output_type": "stream",
     "text": [
      "('a', 'b', 'c', 'd', 'e')\n",
      "index of d is  3\n"
     ]
    }
   ],
   "source": [
    "## (8) Write a Python program to access the elements of a tuple using indexing.\n",
    "val=(\"a\",\"b\",\"c\",\"d\",\"e\")\n",
    "print(val)\n",
    "index=val.index(\"d\")\n",
    "print(\"index of d is \",index)"
   ]
  },
  {
   "cell_type": "code",
   "execution_count": 2,
   "id": "a7b9e4e3",
   "metadata": {},
   "outputs": [
    {
     "name": "stdout",
     "output_type": "stream",
     "text": [
      "lenght of the tuple 5\n"
     ]
    }
   ],
   "source": [
    "## (9) Create a function to find the length of a tuple.\n",
    "val=(\"a\",\"b\",\"c\",\"d\",\"e\")\n",
    "result = len(val)\n",
    "print(\"lenght of the tuple\",result)"
   ]
  },
  {
   "cell_type": "code",
   "execution_count": 8,
   "id": "fe604d02",
   "metadata": {},
   "outputs": [
    {
     "name": "stdout",
     "output_type": "stream",
     "text": [
      "first tuple is :\n",
      "(1, 2, 3)\n",
      "second tuple is :\n",
      "(4, 5, 6)\n",
      "tuple after concatenation is :\n",
      "(1, 2, 3, 4, 5, 6)\n"
     ]
    }
   ],
   "source": [
    "## (10) implement a program to concatenate two tuples.\n",
    "value1 = (1,2,3)\n",
    "value2 = (4,5,6)\n",
    "print(\"first tuple is :\")\n",
    "print(value1)\n",
    "print(\"second tuple is :\")\n",
    "print(value2)\n",
    "result= value1 + value2\n",
    "print(\"tuple after concatenation is :\")\n",
    "print(result)\n"
   ]
  },
  {
   "cell_type": "code",
   "execution_count": 9,
   "id": "ace2d655",
   "metadata": {},
   "outputs": [
    {
     "name": "stdout",
     "output_type": "stream",
     "text": [
      "True\n",
      "False\n"
     ]
    }
   ],
   "source": [
    "## (11) Write a Python function to check if an element exists in a tuple.\n",
    "tuple = (\"r\",\"i\",\"c\",\"h\",\"a\",2,7)\n",
    "print(\"c\" in tuple)\n",
    "print(3 in tuple)"
   ]
  },
  {
   "cell_type": "code",
   "execution_count": 10,
   "id": "a10488ae",
   "metadata": {},
   "outputs": [
    {
     "name": "stdout",
     "output_type": "stream",
     "text": [
      "RGPV BHOPAL\n",
      "40000\n",
      "Engineering\n"
     ]
    }
   ],
   "source": [
    "## (12) Create a program to unpack the elements of a tuple into separate variables\n",
    "val = (\"RGPV BHOPAL\",40000,\"Engineering\")\n",
    "(College , Fees , Course) = val\n",
    "print(College)\n",
    "print(Fees)\n",
    "print(Course)"
   ]
  },
  {
   "cell_type": "code",
   "execution_count": 11,
   "id": "ef7c0429",
   "metadata": {},
   "outputs": [
    {
     "name": "stdout",
     "output_type": "stream",
     "text": [
      "2\n"
     ]
    }
   ],
   "source": [
    "## (13) Implement a function to find the index of the first occurrence of an element in a tuple.\n",
    "tuple = (1,2,3,4,5,4,9,3,2,3)\n",
    "x = tuple.index(3)\n",
    "print (x)\n"
   ]
  },
  {
   "cell_type": "code",
   "execution_count": 13,
   "id": "be933d22",
   "metadata": {},
   "outputs": [
    {
     "data": {
      "text/plain": [
       "2"
      ]
     },
     "execution_count": 13,
     "metadata": {},
     "output_type": "execute_result"
    }
   ],
   "source": [
    "def get_tupleoccurance(tuple):\n",
    "    x=tuple.index(3)\n",
    "    return x\n",
    "tuple = (1,2,3,4,5,6,4,3)\n",
    "get_tupleoccurance(tuple)"
   ]
  },
  {
   "cell_type": "markdown",
   "id": "fd393389",
   "metadata": {},
   "source": [
    "## STRING"
   ]
  },
  {
   "cell_type": "code",
   "execution_count": 8,
   "id": "b92a3666",
   "metadata": {},
   "outputs": [
    {
     "name": "stdout",
     "output_type": "stream",
     "text": [
      "19\n"
     ]
    }
   ],
   "source": [
    "## (14) Write a Python program to count the number of characters in a string.\n",
    "string = \"My name is Richa Tiwari\"\n",
    "count = 0\n",
    "for i  in string:\n",
    "    if i.isalpha():\n",
    "        count+=1\n",
    "print(count)\n",
    "    \n"
   ]
  },
  {
   "cell_type": "code",
   "execution_count": 15,
   "id": "1034a68c",
   "metadata": {},
   "outputs": [
    {
     "name": "stdout",
     "output_type": "stream",
     "text": [
      "enter the string: Richa Tiwari\n",
      "original String: Richa Tiwari\n",
      "Reverse String: irawiT ahciR\n"
     ]
    }
   ],
   "source": [
    "## (15) Create a function to reverse a string.\n",
    "def rev_func(string):\n",
    "    reverse_string=string[::-1]\n",
    "    return reverse_string\n",
    "string=str(input(\"enter the string: \"))\n",
    "print(\"original String:\",string)\n",
    "print(\"Reverse String:\",rev_func(string))"
   ]
  },
  {
   "cell_type": "code",
   "execution_count": 18,
   "id": "24be30b7",
   "metadata": {},
   "outputs": [
    {
     "name": "stdout",
     "output_type": "stream",
     "text": [
      "Yes\n"
     ]
    }
   ],
   "source": [
    "## (16) Implement a program to check if a string is a palindrome.\n",
    "def isPalindrome(s) :\n",
    "    return s == s[::-1]\n",
    "s = \"MOM\"\n",
    "ans = isPalindrome(s)\n",
    "if ans:\n",
    "    print(\"Yes\")\n",
    "else:\n",
    "    print(\"No\")\n",
    "    "
   ]
  },
  {
   "cell_type": "code",
   "execution_count": 19,
   "id": "0bee4125",
   "metadata": {},
   "outputs": [
    {
     "name": "stdout",
     "output_type": "stream",
     "text": [
      "My Name Is Richa Tiwari\n"
     ]
    }
   ],
   "source": [
    "## (17) Write a Python function to capitalize the first letter of each word in a sentence.\n",
    "String = \"my name is richa tiwari\"\n",
    "print(String.title())"
   ]
  },
  {
   "cell_type": "code",
   "execution_count": 2,
   "id": "d1c3a380",
   "metadata": {},
   "outputs": [
    {
     "name": "stdout",
     "output_type": "stream",
     "text": [
      "19\n"
     ]
    }
   ],
   "source": [
    "## (18) Create a program to remove all whitespace from a string.\n",
    "string = \"My name is Richa Tiwari\"\n",
    "count = 0\n",
    "for i in string:\n",
    "    if i.isalpha():\n",
    "        count +=1\n",
    "print(count)"
   ]
  },
  {
   "cell_type": "code",
   "execution_count": 3,
   "id": "4398bcd9",
   "metadata": {},
   "outputs": [
    {
     "name": "stdout",
     "output_type": "stream",
     "text": [
      "RamandShyam\n"
     ]
    }
   ],
   "source": [
    "## (19) Implement a function to replace all occurrences of a substring in a string.\n",
    "input_string = \"RamandShyam\"\n",
    "s1=\"shyam\"\n",
    "s2=\"lakshman\"\n",
    "input_string = input_string.replace(s1,s2)\n",
    "print(input_string)"
   ]
  },
  {
   "cell_type": "markdown",
   "id": "8a365e05",
   "metadata": {},
   "source": [
    "## SET"
   ]
  },
  {
   "cell_type": "code",
   "execution_count": 4,
   "id": "4d32a55b",
   "metadata": {},
   "outputs": [
    {
     "name": "stdout",
     "output_type": "stream",
     "text": [
      "{'rose'}\n"
     ]
    }
   ],
   "source": [
    "## (20) Write a Python program to find the intersection of two sets.\n",
    "x = {\"apple\",\"banana\",\"rose\",\"oranges\"}\n",
    "y = {\"monkey\",\"rose\",\"horse\",\"rat\"}\n",
    "z = x.intersection(y)\n",
    "print(z)"
   ]
  },
  {
   "cell_type": "code",
   "execution_count": 6,
   "id": "2192c875",
   "metadata": {},
   "outputs": [
    {
     "name": "stdout",
     "output_type": "stream",
     "text": [
      "A U B : {1, 2, 3, 4, 5, 8}\n"
     ]
    }
   ],
   "source": [
    "## (21) Create a function to find the union of two sets.\n",
    "A = {2,4,3,8}\n",
    "B = {1,3,5,4}\n",
    "print(\"A U B :\", A.union(B))"
   ]
  },
  {
   "cell_type": "code",
   "execution_count": 7,
   "id": "7d9f8e84",
   "metadata": {},
   "outputs": [
    {
     "name": "stdout",
     "output_type": "stream",
     "text": [
      "True\n"
     ]
    }
   ],
   "source": [
    "## (22) Implement a program to check if one set is a subset of another.\n",
    "A = {1,2,3}\n",
    "B = {1,2,3,4,5}\n",
    "print(A.issubset(B))"
   ]
  },
  {
   "cell_type": "code",
   "execution_count": 11,
   "id": "a184117a",
   "metadata": {},
   "outputs": [
    {
     "name": "stdout",
     "output_type": "stream",
     "text": [
      "{'Green', 'orange', 'blue', 'red'}\n"
     ]
    }
   ],
   "source": [
    "## (23) Write a Python function to add an element to a set.\n",
    "set = {\"red\",\"orange\",\"blue\"}\n",
    "set.add(\"Green\")\n",
    "print(set)"
   ]
  },
  {
   "cell_type": "code",
   "execution_count": 15,
   "id": "6ba20118",
   "metadata": {},
   "outputs": [
    {
     "name": "stdout",
     "output_type": "stream",
     "text": [
      "{1, 2, 3, 4, 5}\n"
     ]
    }
   ],
   "source": [
    "def get_set(set1,element):\n",
    "    set=set1.add(element)\n",
    "    return set\n",
    "set1={1,2,3,4}\n",
    "get_set(set1 , 5)\n",
    "print(set1)\n"
   ]
  },
  {
   "cell_type": "code",
   "execution_count": 13,
   "id": "d1197a45",
   "metadata": {},
   "outputs": [
    {
     "name": "stdout",
     "output_type": "stream",
     "text": [
      "{'banana', 'orange'}\n"
     ]
    }
   ],
   "source": [
    "## (24) Create a program to remove an element from a set.\n",
    "set = {\"apple\",\"banana\",\"orange\"}\n",
    "set.remove(\"apple\")\n",
    "print(set)"
   ]
  },
  {
   "cell_type": "code",
   "execution_count": 16,
   "id": "224e55ae",
   "metadata": {},
   "outputs": [
    {
     "name": "stdout",
     "output_type": "stream",
     "text": [
      "{1, 3, 5, 8, 9}\n"
     ]
    }
   ],
   "source": [
    "## (25) Implement a function to find the symmetric difference between two sets.\n",
    "A= {1,2,3,4}\n",
    "B={4,2,8,9,5}\n",
    "C=A.symmetric_difference(B)\n",
    "print(C)"
   ]
  },
  {
   "cell_type": "code",
   "execution_count": 17,
   "id": "69ee12bc",
   "metadata": {},
   "outputs": [
    {
     "data": {
      "text/plain": [
       "{1, 4, 8, 10}"
      ]
     },
     "execution_count": 17,
     "metadata": {},
     "output_type": "execute_result"
    }
   ],
   "source": [
    "## function\n",
    "def get_symmetric_difference(A,B):\n",
    "    C=A.symmetric_difference(B)\n",
    "    return C\n",
    "A = {1,2,3,4}\n",
    "B={2,3,8,10}\n",
    "get_symmetric_difference(A,B)\n"
   ]
  },
  {
   "cell_type": "code",
   "execution_count": null,
   "id": "e253f1e7",
   "metadata": {},
   "outputs": [],
   "source": []
  }
 ],
 "metadata": {
  "kernelspec": {
   "display_name": "Python 3 (ipykernel)",
   "language": "python",
   "name": "python3"
  },
  "language_info": {
   "codemirror_mode": {
    "name": "ipython",
    "version": 3
   },
   "file_extension": ".py",
   "mimetype": "text/x-python",
   "name": "python",
   "nbconvert_exporter": "python",
   "pygments_lexer": "ipython3",
   "version": "3.11.4"
  }
 },
 "nbformat": 4,
 "nbformat_minor": 5
}
